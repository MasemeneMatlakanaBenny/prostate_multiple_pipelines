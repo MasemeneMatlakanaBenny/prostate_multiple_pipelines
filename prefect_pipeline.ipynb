{
 "cells": [
  {
   "cell_type": "code",
   "execution_count": 1,
   "id": "d6b994f8-bce2-436d-adc7-83e1bce274c3",
   "metadata": {},
   "outputs": [],
   "source": [
    "from prefect import task,flow"
   ]
  },
  {
   "cell_type": "code",
   "execution_count": 7,
   "id": "395ff4c8-a5a4-4fdd-b2ec-b39de9bf9766",
   "metadata": {},
   "outputs": [
    {
     "data": {
      "text/html": [
       "<pre style=\"white-space:pre;overflow-x:auto;line-height:normal;font-family:Menlo,'DejaVu Sans Mono',consolas,'Courier New',monospace\">18:12:01.728 | <span style=\"color: #008080; text-decoration-color: #008080\">INFO</span>    | Flow run<span style=\"color: #800080; text-decoration-color: #800080\"> 'vanilla-cockatoo'</span> - Beginning flow run<span style=\"color: #800080; text-decoration-color: #800080\"> 'vanilla-cockatoo'</span> for flow<span style=\"color: #800080; text-decoration-color: #800080; font-weight: bold\"> 'model-pipeline'</span>\n",
       "</pre>\n"
      ],
      "text/plain": [
       "18:12:01.728 | \u001b[36mINFO\u001b[0m    | Flow run\u001b[35m 'vanilla-cockatoo'\u001b[0m - Beginning flow run\u001b[35m 'vanilla-cockatoo'\u001b[0m for flow\u001b[1;35m 'model-pipeline'\u001b[0m\n"
      ]
     },
     "metadata": {},
     "output_type": "display_data"
    },
    {
     "data": {
      "text/html": [
       "<pre style=\"white-space:pre;overflow-x:auto;line-height:normal;font-family:Menlo,'DejaVu Sans Mono',consolas,'Courier New',monospace\">18:12:01.733 | <span style=\"color: #008080; text-decoration-color: #008080\">INFO</span>    | Flow run<span style=\"color: #800080; text-decoration-color: #800080\"> 'vanilla-cockatoo'</span> - View at <span style=\"color: #0000ff; text-decoration-color: #0000ff\">https://app.prefect.cloud/account/7c4cba2a-b7b9-4796-bac5-89b09ca80d56/workspace/7ea85afd-3718-4eb4-8a20-9761bcaace1d/runs/flow-run/068dea45-6d75-7a81-8000-98ee3a06735c</span>\n",
       "</pre>\n"
      ],
      "text/plain": [
       "18:12:01.733 | \u001b[36mINFO\u001b[0m    | Flow run\u001b[35m 'vanilla-cockatoo'\u001b[0m - View at \u001b[94mhttps://app.prefect.cloud/account/7c4cba2a-b7b9-4796-bac5-89b09ca80d56/workspace/7ea85afd-3718-4eb4-8a20-9761bcaace1d/runs/flow-run/068dea45-6d75-7a81-8000-98ee3a06735c\u001b[0m\n"
      ]
     },
     "metadata": {},
     "output_type": "display_data"
    },
    {
     "data": {
      "text/html": [
       "<pre style=\"white-space:pre;overflow-x:auto;line-height:normal;font-family:Menlo,'DejaVu Sans Mono',consolas,'Courier New',monospace\">18:12:02.535 | <span style=\"color: #008080; text-decoration-color: #008080\">INFO</span>    | Task run 'load_data-e93' - Finished in state <span style=\"color: #008000; text-decoration-color: #008000\">Completed</span>()\n",
       "</pre>\n"
      ],
      "text/plain": [
       "18:12:02.535 | \u001b[36mINFO\u001b[0m    | Task run 'load_data-e93' - Finished in state \u001b[32mCompleted\u001b[0m()\n"
      ]
     },
     "metadata": {},
     "output_type": "display_data"
    },
    {
     "data": {
      "text/html": [
       "<pre style=\"white-space:pre;overflow-x:auto;line-height:normal;font-family:Menlo,'DejaVu Sans Mono',consolas,'Courier New',monospace\">18:12:03.285 | <span style=\"color: #008080; text-decoration-color: #008080\">INFO</span>    | Task run 'data_split-2a8' - Finished in state <span style=\"color: #008000; text-decoration-color: #008000\">Completed</span>()\n",
       "</pre>\n"
      ],
      "text/plain": [
       "18:12:03.285 | \u001b[36mINFO\u001b[0m    | Task run 'data_split-2a8' - Finished in state \u001b[32mCompleted\u001b[0m()\n"
      ]
     },
     "metadata": {},
     "output_type": "display_data"
    },
    {
     "data": {
      "text/html": [
       "<pre style=\"white-space:pre;overflow-x:auto;line-height:normal;font-family:Menlo,'DejaVu Sans Mono',consolas,'Courier New',monospace\">18:12:03.978 | <span style=\"color: #008080; text-decoration-color: #008080\">INFO</span>    | Task run 'model_training-30f' - Finished in state <span style=\"color: #008000; text-decoration-color: #008000\">Completed</span>()\n",
       "</pre>\n"
      ],
      "text/plain": [
       "18:12:03.978 | \u001b[36mINFO\u001b[0m    | Task run 'model_training-30f' - Finished in state \u001b[32mCompleted\u001b[0m()\n"
      ]
     },
     "metadata": {},
     "output_type": "display_data"
    },
    {
     "data": {
      "text/html": [
       "<pre style=\"white-space:pre;overflow-x:auto;line-height:normal;font-family:Menlo,'DejaVu Sans Mono',consolas,'Courier New',monospace\">18:12:04.674 | <span style=\"color: #008080; text-decoration-color: #008080\">INFO</span>    | Task run 'model_evaluation-3c6' - Finished in state <span style=\"color: #008000; text-decoration-color: #008000\">Completed</span>()\n",
       "</pre>\n"
      ],
      "text/plain": [
       "18:12:04.674 | \u001b[36mINFO\u001b[0m    | Task run 'model_evaluation-3c6' - Finished in state \u001b[32mCompleted\u001b[0m()\n"
      ]
     },
     "metadata": {},
     "output_type": "display_data"
    },
    {
     "data": {
      "text/html": [
       "<pre style=\"white-space:pre;overflow-x:auto;line-height:normal;font-family:Menlo,'DejaVu Sans Mono',consolas,'Courier New',monospace\">18:12:05.396 | <span style=\"color: #008080; text-decoration-color: #008080\">INFO</span>    | Task run 'save_model-6db' - Finished in state <span style=\"color: #008000; text-decoration-color: #008000\">Completed</span>()\n",
       "</pre>\n"
      ],
      "text/plain": [
       "18:12:05.396 | \u001b[36mINFO\u001b[0m    | Task run 'save_model-6db' - Finished in state \u001b[32mCompleted\u001b[0m()\n"
      ]
     },
     "metadata": {},
     "output_type": "display_data"
    },
    {
     "data": {
      "text/html": [
       "<pre style=\"white-space:pre;overflow-x:auto;line-height:normal;font-family:Menlo,'DejaVu Sans Mono',consolas,'Courier New',monospace\">18:12:05.862 | <span style=\"color: #008080; text-decoration-color: #008080\">INFO</span>    | Flow run<span style=\"color: #800080; text-decoration-color: #800080\"> 'vanilla-cockatoo'</span> - Finished in state <span style=\"color: #008000; text-decoration-color: #008000\">Completed</span>()\n",
       "</pre>\n"
      ],
      "text/plain": [
       "18:12:05.862 | \u001b[36mINFO\u001b[0m    | Flow run\u001b[35m 'vanilla-cockatoo'\u001b[0m - Finished in state \u001b[32mCompleted\u001b[0m()\n"
      ]
     },
     "metadata": {},
     "output_type": "display_data"
    }
   ],
   "source": [
    "@task\n",
    "def load_data(path:str):\n",
    "    \"\"\"\n",
    "    Data Loading\n",
    "    \"\"\"\n",
    "    import pandas as pd\n",
    "\n",
    "    dataset=pd.read_csv(path)\n",
    "\n",
    "    return dataset\n",
    "\n",
    "@task\n",
    "def data_split(input_data):\n",
    "    \"\"\"\n",
    "    Split the data -> train and test sets.\n",
    "    Train set -> model training.\n",
    "    Test set -> model evaluation\n",
    "    \"\"\"\n",
    "    from sklearn.model_selection import train_test_split\n",
    "\n",
    "    train,test=train_test_split(input_data,test_size=0.2,random_state=42)\n",
    "\n",
    "    return train,test\n",
    "\n",
    "@task\n",
    "def model_training(train_data):\n",
    "    \"\"\"\n",
    "    Using the train data-> model training\n",
    "    \"\"\"\n",
    "    from sklearn.linear_model import LogisticRegression\n",
    "\n",
    "    X_train=train_data.drop(\"Target\",axis=1)\n",
    "    y_train=train_data[\"Target\"]\n",
    "\n",
    "    model=LogisticRegression(solver=\"liblinear\")\n",
    "\n",
    "    model.fit(X_train,y_train)\n",
    "\n",
    "    return model\n",
    "\n",
    "@task\n",
    "def model_evaluation(test_data,model):\n",
    "    \"\"\"\n",
    "    Using Cohen Kappa Score andd Matthews Correlation Coefficient to evaluate the model\n",
    "    \"\"\"\n",
    "    from sklearn.metrics import cohen_kappa_score,matthews_corrcoef\n",
    "    X_test=test_data.drop(\"Target\",axis=1)\n",
    "    y_test=test_data[\"Target\"]\n",
    "\n",
    "    y_preds=model.predict(X_test)\n",
    "    kappa_score=cohen_kappa_score(y_test,y_preds)\n",
    "    mat_coeff=matthews_corrcoef(y_test,y_preds)\n",
    "\n",
    "    return {\"kappa_score\":kappa_score,\"mat_score\":mat_coeff}\n",
    "\n",
    "@task\n",
    "def save_model(model):\n",
    "    \"\"\"\n",
    "    Just saving the model\n",
    "    \"\"\"\n",
    "    import joblib\n",
    "    joblib.dump(model,\"prostate_model.pkl\")\n",
    "\n",
    "@flow\n",
    "def model_pipeline():\n",
    "    \"\"\"\n",
    "    Pipeline:\n",
    "    Load data -> Data Split -> Model Training -> Model Fitting -> Saving the model\n",
    "    \"\"\"\n",
    "    df=load_data(\"prostate.csv\")\n",
    "    train,test=data_split(df)\n",
    "    model=model_training(train)\n",
    "    model_evaluation(test_data=test,model=model)\n",
    "    save_model(model)\n",
    "\n",
    "if __name__==\"__main__\":\n",
    "    model_pipeline()"
   ]
  },
  {
   "cell_type": "code",
   "execution_count": null,
   "id": "6ba855b3-10e2-4204-9cd3-40126795d43c",
   "metadata": {},
   "outputs": [],
   "source": []
  }
 ],
 "metadata": {
  "kernelspec": {
   "display_name": "Python 3 (ipykernel)",
   "language": "python",
   "name": "python3"
  },
  "language_info": {
   "codemirror_mode": {
    "name": "ipython",
    "version": 3
   },
   "file_extension": ".py",
   "mimetype": "text/x-python",
   "name": "python",
   "nbconvert_exporter": "python",
   "pygments_lexer": "ipython3",
   "version": "3.13.5"
  }
 },
 "nbformat": 4,
 "nbformat_minor": 5
}
